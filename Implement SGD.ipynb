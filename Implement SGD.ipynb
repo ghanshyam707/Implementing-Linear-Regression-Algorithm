{
 "cells": [
  {
   "cell_type": "code",
   "execution_count": 0,
   "metadata": {
    "colab": {},
    "colab_type": "code",
    "id": "REYPoTJ1Af7u"
   },
   "outputs": [],
   "source": [
    "import warnings\n",
    "warnings.filterwarnings(\"ignore\")\n",
    "from sklearn.datasets import load_boston\n",
    "from random import seed\n",
    "from random import randrange\n",
    "from csv import reader\n",
    "from math import sqrt\n",
    "from sklearn import preprocessing\n",
    "import pandas as pd\n",
    "import numpy as np\n",
    "import matplotlib.pyplot as plt\n",
    "from prettytable import PrettyTable\n",
    "from sklearn.linear_model import SGDRegressor\n",
    "from sklearn import preprocessing\n",
    "from sklearn.metrics import mean_squared_error"
   ]
  },
  {
   "cell_type": "code",
   "execution_count": 47,
   "metadata": {
    "colab": {
     "base_uri": "https://localhost:8080/",
     "height": 35
    },
    "colab_type": "code",
    "id": "NTQ2iH-kAwbo",
    "outputId": "34f3fea1-95bd-4581-b6ce-245dd89e5cde"
   },
   "outputs": [
    {
     "data": {
      "text/plain": [
       "numpy.ndarray"
      ]
     },
     "execution_count": 47,
     "metadata": {
      "tags": []
     },
     "output_type": "execute_result"
    }
   ],
   "source": [
    "X = load_boston().data\n",
    "Y = load_boston().target\n",
    "type(X)"
   ]
  },
  {
   "cell_type": "code",
   "execution_count": 0,
   "metadata": {
    "colab": {},
    "colab_type": "code",
    "id": "FgUW39s6Be0U"
   },
   "outputs": [],
   "source": [
    "scaler = preprocessing.StandardScaler().fit(X)\n",
    "X = scaler.transform(X)"
   ]
  },
  {
   "cell_type": "code",
   "execution_count": 49,
   "metadata": {
    "colab": {
     "base_uri": "https://localhost:8080/",
     "height": 127
    },
    "colab_type": "code",
    "id": "HNu1sXtEBBS2",
    "outputId": "477d4d12-c6a2-4691-de9c-dc796f4bb2b1"
   },
   "outputs": [
    {
     "data": {
      "text/plain": [
       "SGDRegressor(alpha=0.0001, average=False, early_stopping=False, epsilon=0.1,\n",
       "       eta0=0.01, fit_intercept=True, l1_ratio=0.15,\n",
       "       learning_rate='invscaling', loss='squared_loss', max_iter=None,\n",
       "       n_iter=None, n_iter_no_change=5, penalty='l2', power_t=0.25,\n",
       "       random_state=None, shuffle=True, tol=None, validation_fraction=0.1,\n",
       "       verbose=0, warm_start=False)"
      ]
     },
     "execution_count": 49,
     "metadata": {
      "tags": []
     },
     "output_type": "execute_result"
    }
   ],
   "source": [
    "clf = SGDRegressor()\n",
    "clf.fit(X, Y)"
   ]
  },
  {
   "cell_type": "code",
   "execution_count": 0,
   "metadata": {
    "colab": {},
    "colab_type": "code",
    "id": "h1YaJL-jt7W2"
   },
   "outputs": [],
   "source": [
    "import numpy as np\n",
    "import pdb\n",
    "\n",
    "def SGD(x, y ,alpha = 2):\n",
    "    m = y.size  # number of training examples\n",
    "    vector_size = x.shape[1]\n",
    "    theta_before = np.zeros(vector_size)\n",
    "    theta = np.random.rand(vector_size)\n",
    "    b = np.random.rand()\n",
    "    derivative = np.zeros(vector_size)\n",
    "    b_deriv = 0\n",
    "    no_iter = 0\n",
    "    while True :\n",
    "        no_iter = no_iter + 1\n",
    "        k =  np.random.randint(0,100) #number of raws\n",
    "        raw_index = np.random.randint(0,m,k)\n",
    "        x_ = x[raw_index,:] #Taking k raws randomly\n",
    "        y_ = y[raw_index]\n",
    "        #pdb.set_trace()\n",
    "        i = 0\n",
    "        for row in x_:\n",
    "            #derivative = derivative + np.dot(-2 * row, y_[i] - np.dot(row.T, theta)) # calculating darivative fro theta\n",
    "            derivative = derivative + (-2 * row)*(y_[i] - np.dot(row.T, theta)) # calculating darivative fro theta\n",
    "            b_deriv = b_deriv + -2 * (y_[i] - (np.dot(x_[i], theta) + b)) #calculating darivative for b\n",
    "            i = i + 1\n",
    "        theta = theta - alpha  * (derivative/float(m)) # Calculating steps\n",
    "        b = b - alpha * (b_deriv/float(m))\n",
    "        if (abs(np.linalg.norm(theta_before-theta)) < 0.00001): #stops when difference is about to zero\n",
    "            break\n",
    "        theta_before = theta\n",
    "        alpha = alpha/2\n",
    "    return (theta,b,no_iter)"
   ]
  },
  {
   "cell_type": "code",
   "execution_count": 0,
   "metadata": {
    "colab": {},
    "colab_type": "code",
    "id": "Un_joWUaWk3E"
   },
   "outputs": [],
   "source": [
    "def SGD_predict(x,w,b):\n",
    "  y = []\n",
    "  for row in x:\n",
    "    y.append((np.dot(w,row)+b))\n",
    "  return y"
   ]
  },
  {
   "cell_type": "code",
   "execution_count": 0,
   "metadata": {
    "colab": {},
    "colab_type": "code",
    "id": "vnN_6H5-QHot"
   },
   "outputs": [],
   "source": [
    "w,b,no_iter = SGD(X,Y)\n",
    "pred_y = SGD_predict(X,w,b)"
   ]
  },
  {
   "cell_type": "code",
   "execution_count": 53,
   "metadata": {
    "colab": {
     "base_uri": "https://localhost:8080/",
     "height": 571
    },
    "colab_type": "code",
    "id": "0piGf_Plkq3J",
    "outputId": "57c869ab-3100-4a03-9c5f-56e38e83b001"
   },
   "outputs": [
    {
     "data": {
      "text/plain": [
       "<matplotlib.collections.PathCollection at 0x7fb9ed9064a8>"
      ]
     },
     "execution_count": 53,
     "metadata": {
      "tags": []
     },
     "output_type": "execute_result"
    },
    {
     "data": {
      "image/png": "[encoded data removed]",
      "text/plain": [
       "<Figure size 1224x648 with 2 Axes>"
      ]
     },
     "metadata": {
      "tags": []
     },
     "output_type": "display_data"
    }
   ],
   "source": [
    "fig = plt.figure(1,figsize = (17,9))\n",
    "fig1 = fig.add_subplot(121).set_title('Actual Vs. Predicated values of Y For Costom SGD')\n",
    "fig2 = fig.add_subplot(122).set_title('Actual Vs. Predicated values of Y For Sklearn\\'s SGD')\n",
    "\n",
    "\n",
    "plt.subplot(121)\n",
    "plt.scatter(Y,pred_y)\n",
    "\n",
    "                                      \n",
    "plt.subplot(122)\n",
    "plt.scatter(Y,clf.predict(X))\n",
    "                                     "
   ]
  },
  {
   "cell_type": "code",
   "execution_count": 54,
   "metadata": {
    "colab": {
     "base_uri": "https://localhost:8080/",
     "height": 201
    },
    "colab_type": "code",
    "id": "_KbNSpmwmqyJ",
    "outputId": "1703faf8-91a0-407f-d03e-d13feca0ba61"
   },
   "outputs": [
    {
     "name": "stdout",
     "output_type": "stream",
     "text": [
      "+---------+--------------------------------------------------------------------------+-------------------+-------------------+------------------+\n",
      "|   Type  |                                    W                                     |         b         |        MSE        | No of Iterations |\n",
      "+---------+--------------------------------------------------------------------------+-------------------+-------------------+------------------+\n",
      "| SKlearn | [-0.73302656  0.57487505 -0.52171779  0.81345121 -1.01735663  3.09485758 |   [22.33926233]   | 22.83070152994931 |        5         |\n",
      "|         |  -0.06619209 -2.04609693  0.82719947 -0.45336595 -1.82579611  0.89167409 |                   |                   |                  |\n",
      "|         |                               -3.51245393]                               |                   |                   |                  |\n",
      "|  Costom | [ 0.61877059 -0.00936073 -1.86226316  1.43113699 -2.11841435  5.64624767 | 22.83518487279299 | 39.25087753409695 |        23        |\n",
      "|         |   1.20325079 -0.03789948 -0.37163146  0.31598193 -2.6601825  -0.28545897 |                   |                   |                  |\n",
      "|         |                               -2.45377759]                               |                   |                   |                  |\n",
      "+---------+--------------------------------------------------------------------------+-------------------+-------------------+------------------+\n"
     ]
    }
   ],
   "source": [
    "from prettytable import PrettyTable\n",
    "    \n",
    "x = PrettyTable()\n",
    "\n",
    "x.field_names = [\"Type\",\"W\", \"b\",\"MSE\", \"No of Iterations\"]\n",
    "\n",
    "x.add_row([\"SKlearn\",clf.coef_,clf.intercept_,mean_squared_error(Y, clf.predict(X)),clf.n_iter_])\n",
    "x.add_row([\"Costom\",w,b,mean_squared_error(Y,pred_y),no_iter])\n",
    "\n",
    "\n",
    "print(x)"
   ]
  }
 ],
 "metadata": {
  "colab": {
   "collapsed_sections": [],
   "name": "06 Implement SGD.ipynb",
   "provenance": [],
   "version": "0.3.2"
  },
  "kernelspec": {
   "display_name": "Python 3",
   "language": "python",
   "name": "python3"
  },
  "language_info": {
   "codemirror_mode": {
    "name": "ipython",
    "version": 3
   },
   "file_extension": ".py",
   "mimetype": "text/x-python",
   "name": "python",
   "nbconvert_exporter": "python",
   "pygments_lexer": "ipython3",
   "version": "3.6.5"
  }
 },
 "nbformat": 4,
 "nbformat_minor": 1
}
